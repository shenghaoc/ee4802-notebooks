{
  "nbformat": 4,
  "nbformat_minor": 0,
  "metadata": {
    "colab": {
      "name": "EE4802/IE4213 Exam Question 3.ipynb",
      "provenance": [],
      "collapsed_sections": []
    },
    "kernelspec": {
      "name": "python3",
      "display_name": "Python 3"
    },
    "accelerator": "GPU"
  },
  "cells": [
    {
      "cell_type": "markdown",
      "metadata": {
        "id": "T9uTM0whag4a"
      },
      "source": [
        "# **EE4802/IE4213 Exam Question 3**"
      ]
    },
    {
      "cell_type": "markdown",
      "metadata": {
        "id": "NdddQO_Aat2F"
      },
      "source": [
        "This Colab notebook should perform handwritten digit image classification using a convolutional neural network (CNN)."
      ]
    },
    {
      "cell_type": "markdown",
      "metadata": {
        "id": "EMufwafDYPl8"
      },
      "source": [
        "Use the TensorFlow package which contains the Keras sub-package to implement the CNN. The dataset is the MNIST dataset found within Keras.\n",
        "Import the necessary packages."
      ]
    },
    {
      "cell_type": "code",
      "metadata": {
        "id": "E8N-V0DDproN"
      },
      "source": [
        "from numpy import max\n",
        "from matplotlib import pyplot\n",
        "from tensorflow.keras.datasets import mnist\n",
        "from tensorflow.keras.utils import to_categorical\n",
        "from tensorflow.keras.models import Sequential\n",
        "from tensorflow.keras.layers import Conv1D\n",
        "from tensorflow.keras.layers import Conv2D\n",
        "from tensorflow.keras.layers import MaxPooling1D\n",
        "from tensorflow.keras.layers import MaxPooling2D\n",
        "from tensorflow.keras.layers import SimpleRNN\n",
        "from tensorflow.keras.layers import LSTM\n",
        "from tensorflow.keras.layers import Dense\n",
        "from tensorflow.keras.layers import Flatten"
      ],
      "execution_count": null,
      "outputs": []
    },
    {
      "cell_type": "code",
      "metadata": {
        "id": "MN-9-M1wp9h9"
      },
      "source": [
        "## Load train and test dataset\n",
        "# load dataset\n",
        "(trainX, trainY), (testX, testY) = mnist.load_data()\n",
        "# reshape dataset to have a single channel\n",
        "trainX = trainX.reshape((trainX.shape[0], 28, 28, 1))\n",
        "testX = testX.reshape((testX.shape[0], 28, 28, 1))\n",
        "# one hot encode target values\n",
        "trainY = to_categorical(trainY)\n",
        "testY = to_categorical(testY)"
      ],
      "execution_count": null,
      "outputs": []
    },
    {
      "cell_type": "code",
      "metadata": {
        "id": "Ig6H41DrfHTS"
      },
      "source": [
        "## Prepare (convert integers to floats) and scale pixels (so that range is [0,1]) in the input images\n",
        "# convert from integers to floats\n",
        "trainX_norm = trainX.astype('float32')\n",
        "testX_norm = testX.astype('float32')\n",
        "# normalize to range 0-1\n",
        "trainX = trainX_norm / 255.0\n",
        "testX = testX_norm / 255.0"
      ],
      "execution_count": null,
      "outputs": []
    },
    {
      "cell_type": "code",
      "metadata": {
        "colab": {
          "base_uri": "https://localhost:8080/"
        },
        "id": "PDF4RnsrxJU_",
        "outputId": "085dad67-b7f8-4e2a-d574-b633b97bf7dd"
      },
      "source": [
        "print(trainX.shape)\n",
        "print(trainY.shape)\n",
        "print(testX.shape)\n",
        "print(testY.shape)"
      ],
      "execution_count": null,
      "outputs": [
        {
          "output_type": "stream",
          "text": [
            "(60000, 28, 28, 1)\n",
            "(60000, 10)\n",
            "(10000, 28, 28, 1)\n",
            "(10000, 10)\n"
          ],
          "name": "stdout"
        }
      ]
    },
    {
      "cell_type": "code",
      "metadata": {
        "id": "wyM926MG4Gy_"
      },
      "source": [
        "## Define CNN model\n",
        "# model = [WriteCode]\n",
        "# [WriteCode]\n",
        "# : ... input_shape=(28, 28, 1)))\n",
        "# :\n",
        "# : \n",
        "# Print out the model summary\n",
        "# model.summary()"
      ],
      "execution_count": null,
      "outputs": []
    },
    {
      "cell_type": "code",
      "metadata": {
        "id": "sT_zCVS73iAV"
      },
      "source": [
        "# Train the CNN model\n",
        "# [WriteCode]"
      ],
      "execution_count": null,
      "outputs": []
    },
    {
      "cell_type": "code",
      "metadata": {
        "id": "LDcENNEE9HMC"
      },
      "source": [
        "# Evaluate the CNN model\n",
        "# _, acc = [WriteCode]\n",
        "# print('Accuracy : %.3f' % (acc * 100.0))"
      ],
      "execution_count": null,
      "outputs": []
    },
    {
      "cell_type": "code",
      "metadata": {
        "id": "swA3Pup6i6Ed"
      },
      "source": [
        "# Plot performance graphs\n",
        "# plot loss\n",
        "pyplot.subplot(2, 1, 1)\n",
        "pyplot.title('Loss')\n",
        "# pyplot.plot([WriteCode], color='blue', label='train')\n",
        "# plot accuracy\n",
        "pyplot.subplot(2, 1, 2)\n",
        "pyplot.title('Classification Accuracy')\n",
        "# pyplot.plot([WriteCode], color='blue', label='train')\n",
        "pyplot.show()"
      ],
      "execution_count": null,
      "outputs": []
    }
  ]
}