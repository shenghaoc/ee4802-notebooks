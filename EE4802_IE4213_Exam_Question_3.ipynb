{
 "cells": [
  {
   "cell_type": "markdown",
   "metadata": {
    "id": "T9uTM0whag4a"
   },
   "source": [
    "# **EE4802/IE4213 Exam Question 3**"
   ]
  },
  {
   "cell_type": "markdown",
   "metadata": {
    "id": "NdddQO_Aat2F"
   },
   "source": [
    "This Colab notebook should perform handwritten digit image classification using a convolutional neural network (CNN)."
   ]
  },
  {
   "cell_type": "markdown",
   "metadata": {
    "id": "EMufwafDYPl8"
   },
   "source": [
    "Use the TensorFlow package which contains the Keras sub-package to implement the CNN. The dataset is the MNIST dataset found within Keras.\n",
    "Import the necessary packages."
   ]
  },
  {
   "cell_type": "code",
   "execution_count": 1,
   "metadata": {
    "execution": {
     "iopub.execute_input": "2022-05-03T09:21:53.838193Z",
     "iopub.status.busy": "2022-05-03T09:21:53.838005Z",
     "iopub.status.idle": "2022-05-03T09:21:56.095921Z",
     "shell.execute_reply": "2022-05-03T09:21:56.095332Z"
    },
    "id": "E8N-V0DDproN"
   },
   "outputs": [],
   "source": [
    "from numpy import max\n",
    "from matplotlib import pyplot\n",
    "from tensorflow.keras.datasets import mnist\n",
    "from tensorflow.keras.utils import to_categorical\n",
    "from tensorflow.keras.models import Sequential\n",
    "from tensorflow.keras.layers import Conv1D\n",
    "from tensorflow.keras.layers import Conv2D\n",
    "from tensorflow.keras.layers import MaxPooling1D\n",
    "from tensorflow.keras.layers import MaxPooling2D\n",
    "from tensorflow.keras.layers import SimpleRNN\n",
    "from tensorflow.keras.layers import LSTM\n",
    "from tensorflow.keras.layers import Dense\n",
    "from tensorflow.keras.layers import Flatten"
   ]
  },
  {
   "cell_type": "code",
   "execution_count": 2,
   "metadata": {
    "execution": {
     "iopub.execute_input": "2022-05-03T09:21:56.098469Z",
     "iopub.status.busy": "2022-05-03T09:21:56.098325Z",
     "iopub.status.idle": "2022-05-03T09:22:02.531448Z",
     "shell.execute_reply": "2022-05-03T09:22:02.530953Z"
    },
    "id": "MN-9-M1wp9h9"
   },
   "outputs": [
    {
     "name": "stdout",
     "output_type": "stream",
     "text": [
      "Downloading data from https://storage.googleapis.com/tensorflow/tf-keras-datasets/mnist.npz\n",
      "11490434/11490434 [==============================] - 0s 0us/step\n"
     ]
    }
   ],
   "source": [
    "## Load train and test dataset\n",
    "# load dataset\n",
    "(trainX, trainY), (testX, testY) = mnist.load_data()\n",
    "# reshape dataset to have a single channel\n",
    "trainX = trainX.reshape((trainX.shape[0], 28, 28, 1))\n",
    "testX = testX.reshape((testX.shape[0], 28, 28, 1))\n",
    "# one hot encode target values\n",
    "trainY = to_categorical(trainY)\n",
    "testY = to_categorical(testY)"
   ]
  },
  {
   "cell_type": "code",
   "execution_count": 3,
   "metadata": {
    "execution": {
     "iopub.execute_input": "2022-05-03T09:22:02.534234Z",
     "iopub.status.busy": "2022-05-03T09:22:02.534012Z",
     "iopub.status.idle": "2022-05-03T09:22:03.935028Z",
     "shell.execute_reply": "2022-05-03T09:22:03.934450Z"
    },
    "id": "Ig6H41DrfHTS"
   },
   "outputs": [],
   "source": [
    "## Prepare (convert integers to floats) and scale pixels (so that range is [0,1]) in the input images\n",
    "# convert from integers to floats\n",
    "trainX_norm = trainX.astype('float32')\n",
    "testX_norm = testX.astype('float32')\n",
    "# normalize to range 0-1\n",
    "trainX = trainX_norm / 255.0\n",
    "testX = testX_norm / 255.0"
   ]
  },
  {
   "cell_type": "code",
   "execution_count": 4,
   "metadata": {
    "colab": {
     "base_uri": "https://localhost:8080/"
    },
    "execution": {
     "iopub.execute_input": "2022-05-03T09:22:03.937268Z",
     "iopub.status.busy": "2022-05-03T09:22:03.937129Z",
     "iopub.status.idle": "2022-05-03T09:22:03.940389Z",
     "shell.execute_reply": "2022-05-03T09:22:03.939961Z"
    },
    "id": "PDF4RnsrxJU_",
    "outputId": "085dad67-b7f8-4e2a-d574-b633b97bf7dd"
   },
   "outputs": [
    {
     "name": "stdout",
     "output_type": "stream",
     "text": [
      "(60000, 28, 28, 1)\n",
      "(60000, 10)\n",
      "(10000, 28, 28, 1)\n",
      "(10000, 10)\n"
     ]
    }
   ],
   "source": [
    "print(trainX.shape)\n",
    "print(trainY.shape)\n",
    "print(testX.shape)\n",
    "print(testY.shape)"
   ]
  },
  {
   "cell_type": "code",
   "execution_count": 5,
   "metadata": {
    "execution": {
     "iopub.execute_input": "2022-05-03T09:22:03.942308Z",
     "iopub.status.busy": "2022-05-03T09:22:03.942173Z",
     "iopub.status.idle": "2022-05-03T09:22:04.601268Z",
     "shell.execute_reply": "2022-05-03T09:22:04.600794Z"
    },
    "id": "wyM926MG4Gy_"
   },
   "outputs": [
    {
     "name": "stdout",
     "output_type": "stream",
     "text": [
      "Model: \"sequential\"\n",
      "_________________________________________________________________\n",
      " Layer (type)                Output Shape              Param #   \n",
      "=================================================================\n",
      " conv2d (Conv2D)             (None, 24, 24, 16)        416       \n",
      "                                                                 \n",
      " max_pooling2d (MaxPooling2D  (None, 12, 12, 16)       0         \n",
      " )                                                               \n",
      "                                                                 \n",
      " conv2d_1 (Conv2D)           (None, 10, 10, 12)        1740      \n",
      "                                                                 \n",
      " max_pooling2d_1 (MaxPooling  (None, 5, 5, 12)         0         \n",
      " 2D)                                                             \n",
      "                                                                 \n",
      " flatten (Flatten)           (None, 300)               0         \n",
      "                                                                 \n",
      " dense (Dense)               (None, 20)                6020      \n",
      "                                                                 \n",
      " dense_1 (Dense)             (None, 10)                210       \n",
      "                                                                 \n",
      "=================================================================\n",
      "Total params: 8,386\n",
      "Trainable params: 8,386\n",
      "Non-trainable params: 0\n",
      "_________________________________________________________________\n"
     ]
    }
   ],
   "source": [
    "## Define CNN model\n",
    "model = Sequential(\n",
    "    [\n",
    "        Conv2D(16, 5, activation=\"relu\", input_shape=(28, 28, 1)),\n",
    "        MaxPooling2D(\n",
    "            pool_size=(2, 2),\n",
    "            strides=(2, 2),\n",
    "        ),\n",
    "        Conv2D(12, 3, activation=\"relu\"),\n",
    "        MaxPooling2D(\n",
    "            pool_size=(2, 2),\n",
    "            strides=(2, 2),\n",
    "        ),\n",
    "        Flatten(),  # too many dimensions after Conv2D\n",
    "        Dense(20, activation=\"relu\"),\n",
    "        # Keras documentation: often used for last layer because result can be interpreted as\n",
    "        # a probability distribution\n",
    "        Dense(10, activation=\"softmax\"),\n",
    "    ]\n",
    ")\n",
    "model.summary()"
   ]
  },
  {
   "cell_type": "code",
   "execution_count": 6,
   "metadata": {
    "execution": {
     "iopub.execute_input": "2022-05-03T09:22:04.605977Z",
     "iopub.status.busy": "2022-05-03T09:22:04.605843Z",
     "iopub.status.idle": "2022-05-03T09:22:48.474642Z",
     "shell.execute_reply": "2022-05-03T09:22:48.474152Z"
    },
    "id": "sT_zCVS73iAV"
   },
   "outputs": [
    {
     "name": "stdout",
     "output_type": "stream",
     "text": [
      "Epoch 1/10\n",
      "1875/1875 [==============================] - 7s 2ms/step - loss: 0.2523 - accuracy: 0.9233\n",
      "Epoch 2/10\n",
      "1875/1875 [==============================] - 4s 2ms/step - loss: 0.0837 - accuracy: 0.9747\n",
      "Epoch 3/10\n",
      "1875/1875 [==============================] - 4s 2ms/step - loss: 0.0635 - accuracy: 0.9808\n",
      "Epoch 4/10\n",
      "1875/1875 [==============================] - 4s 2ms/step - loss: 0.0519 - accuracy: 0.9843\n",
      "Epoch 5/10\n",
      "1875/1875 [==============================] - 4s 2ms/step - loss: 0.0447 - accuracy: 0.9866\n",
      "Epoch 6/10\n",
      "1875/1875 [==============================] - 4s 2ms/step - loss: 0.0393 - accuracy: 0.9878\n",
      "Epoch 7/10\n",
      "1875/1875 [==============================] - 4s 2ms/step - loss: 0.0337 - accuracy: 0.9896\n",
      "Epoch 8/10\n",
      "1875/1875 [==============================] - 4s 2ms/step - loss: 0.0306 - accuracy: 0.9906\n",
      "Epoch 9/10\n",
      "1875/1875 [==============================] - 4s 2ms/step - loss: 0.0268 - accuracy: 0.9916\n",
      "Epoch 10/10\n",
      "1875/1875 [==============================] - 4s 2ms/step - loss: 0.0257 - accuracy: 0.9919\n"
     ]
    }
   ],
   "source": [
    "# Train the CNN model\n",
    "model.compile(\n",
    "    optimizer='adam',  # newest ADAM\n",
    "    loss='categorical_crossentropy',  # multi-class labeling\n",
    "    metrics=['accuracy'],\n",
    ")\n",
    "history = model.fit(trainX, trainY, epochs=10, batch_size=32)"
   ]
  },
  {
   "cell_type": "code",
   "execution_count": 7,
   "metadata": {
    "execution": {
     "iopub.execute_input": "2022-05-03T09:22:48.477194Z",
     "iopub.status.busy": "2022-05-03T09:22:48.477026Z",
     "iopub.status.idle": "2022-05-03T09:22:49.330856Z",
     "shell.execute_reply": "2022-05-03T09:22:49.330408Z"
    },
    "id": "LDcENNEE9HMC"
   },
   "outputs": [
    {
     "name": "stdout",
     "output_type": "stream",
     "text": [
      "313/313 [==============================] - 1s 2ms/step - loss: 0.0289 - accuracy: 0.9912\n",
      "Accuracy : 99.120\n"
     ]
    }
   ],
   "source": [
    "# Evaluate the CNN model\n",
    "_, acc = model.evaluate(testX, testY)\n",
    "print('Accuracy : %.3f' % (acc * 100.0))"
   ]
  },
  {
   "cell_type": "code",
   "execution_count": 8,
   "metadata": {
    "execution": {
     "iopub.execute_input": "2022-05-03T09:22:49.332810Z",
     "iopub.status.busy": "2022-05-03T09:22:49.332672Z",
     "iopub.status.idle": "2022-05-03T09:22:49.579126Z",
     "shell.execute_reply": "2022-05-03T09:22:49.578633Z"
    },
    "id": "swA3Pup6i6Ed"
   },
   "outputs": [
    {
     "data": {
      "image/png": "[encoded data removed]",
      "text/plain": [
       "<Figure size 640x480 with 2 Axes>"
      ]
     },
     "metadata": {},
     "output_type": "display_data"
    }
   ],
   "source": [
    "# Plot performance graphs\n",
    "# plot loss\n",
    "pyplot.subplot(2, 1, 1)\n",
    "pyplot.title('Loss')\n",
    "pyplot.plot(history.history['loss'], color='blue', label='train')\n",
    "# plot accuracy\n",
    "pyplot.subplot(2, 1, 2)\n",
    "pyplot.title('Classification Accuracy')\n",
    "pyplot.plot(history.history['accuracy'], color='blue', label='train')\n",
    "pyplot.show()"
   ]
  }
 ],
 "metadata": {
  "accelerator": "GPU",
  "colab": {
   "collapsed_sections": [],
   "name": "EE4802/IE4213 Exam Question 3.ipynb",
   "provenance": []
  },
  "kernelspec": {
   "display_name": "Python 3",
   "name": "python3"
  },
  "language_info": {
   "codemirror_mode": {
    "name": "ipython",
    "version": 3
   },
   "file_extension": ".py",
   "mimetype": "text/x-python",
   "name": "python",
   "nbconvert_exporter": "python",
   "pygments_lexer": "ipython3",
   "version": "3.8.10"
  }
 },
 "nbformat": 4,
 "nbformat_minor": 0
}
